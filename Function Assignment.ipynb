{
 "cells": [
  {
   "cell_type": "markdown",
   "id": "6f412516",
   "metadata": {},
   "source": [
    "## 1:Days in aMonth\n",
    "Write a function that determines howmany days there are in a particular month. Your\n",
    "function will take two parameters: The month as an integer between 1 and 12, and\n",
    "the year as a four digit integer. Ensure that your function reports the correct number\n",
    "of days in February for leap years. Include a main program that reads a month and\n",
    "year from the user and displays the number of days in that month. You may find your\n",
    "solution to Exercise 58 helpful when solving this problem.\n"
   ]
  },
  {
   "cell_type": "code",
   "execution_count": 8,
   "id": "e89763b9",
   "metadata": {},
   "outputs": [
    {
     "name": "stdout",
     "output_type": "stream",
     "text": [
      "enter month 2\n",
      "enter year2000\n",
      "Days in 2 month of 2000 Year 29\n"
     ]
    }
   ],
   "source": [
    "def days_in_mont(mon,year):\n",
    "    odd_month = [1,3,5,7,9,11]\n",
    "    even_mont = [2,4,6,8,10,12]\n",
    "    if mon in odd_month:\n",
    "        return 31\n",
    "    elif mon == 2:\n",
    "        if year % 400 == 0:\n",
    "           return 29\n",
    "        elif year % 4:\n",
    "            return 29\n",
    "        else:\n",
    "            return 28\n",
    "    else:\n",
    "        return 30\n",
    "mon = int(input(\"enter month \"))\n",
    "year = int(input(\"enter year\"))\n",
    "print(f\"Days in {mon} month of {year} Year {days_in_mont(mon,year)}\")\n",
    "        "
   ]
  },
  {
   "cell_type": "markdown",
   "id": "c45898db",
   "metadata": {},
   "source": [
    "## 2:Random Password\n",
    "Write a function that generates a random password. The password should have a\n",
    "random length of between 7 and 10 characters. Each character should be randomly\n",
    "selected from positions 33 to 126 in the ASCII table. Your function will not take\n",
    "any parameters. It will return the randomly generated password as its only result.\n",
    "Display the randomly generated password in your file’s main program. Your main\n",
    "program should only run when your solution has not been imported into another file"
   ]
  },
  {
   "cell_type": "code",
   "execution_count": 9,
   "id": "89705ad3",
   "metadata": {},
   "outputs": [],
   "source": [
    "import random\n",
    "    "
   ]
  },
  {
   "cell_type": "code",
   "execution_count": 15,
   "id": "7425a30b",
   "metadata": {},
   "outputs": [
    {
     "name": "stdout",
     "output_type": "stream",
     "text": [
      "8\n",
      "H.TUp_ZW\n"
     ]
    }
   ],
   "source": [
    "def passwor():\n",
    "    password = \"\"\n",
    "    x = random.randint(7,10)\n",
    "    for i in range(0,x):\n",
    "        password = password + chr(random.randint(33,126))\n",
    "    return password\n",
    "print(passwor())\n",
    "        "
   ]
  },
  {
   "cell_type": "markdown",
   "id": "563ec4b0",
   "metadata": {},
   "source": [
    "## 3:Next Prime\n",
    "In this exercise you will create a function named nextPrime that finds and returns\n",
    "the first prime number larger than some integer, n. The value of n will be passed to\n",
    "the function as its only parameter. Include a main program that reads an integer from\n",
    "the user and displays the first prime number larger than the entered value\n"
   ]
  },
  {
   "cell_type": "code",
   "execution_count": 25,
   "id": "3657e1fd",
   "metadata": {},
   "outputs": [
    {
     "name": "stdout",
     "output_type": "stream",
     "text": [
      "enter the value15\n",
      "Next prime after 15 is 17\n"
     ]
    }
   ],
   "source": [
    "val = int(input(\"enter the value\"))\n",
    "def next_prime(val):\n",
    "    found_prime = 0\n",
    "    while found_prime == 0 :\n",
    "        is_prime = 0\n",
    "        for x in range(2,val//2):\n",
    "            if val % x == 0 :\n",
    "                is_prime = 1\n",
    "        if is_prime == 0:\n",
    "            found_prime = 1\n",
    "            return val\n",
    "        val = val + 1\n",
    "print(f\"Next prime after {val} is {next_prime(val)}\")\n",
    "\n",
    "                \n",
    "                \n",
    "    "
   ]
  },
  {
   "cell_type": "code",
   "execution_count": null,
   "id": "90fabdd0",
   "metadata": {},
   "outputs": [],
   "source": []
  }
 ],
 "metadata": {
  "kernelspec": {
   "display_name": "Python 3 (ipykernel)",
   "language": "python",
   "name": "python3"
  },
  "language_info": {
   "codemirror_mode": {
    "name": "ipython",
    "version": 3
   },
   "file_extension": ".py",
   "mimetype": "text/x-python",
   "name": "python",
   "nbconvert_exporter": "python",
   "pygments_lexer": "ipython3",
   "version": "3.9.12"
  }
 },
 "nbformat": 4,
 "nbformat_minor": 5
}
