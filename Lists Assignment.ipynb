{
 "cells": [
  {
   "cell_type": "markdown",
   "id": "692254fe",
   "metadata": {},
   "source": [
    "## 1\n",
    "Write a program that reads integers from the user and stores them in a list. Your\n",
    "program should continue reading values until the user enters 0. Then it should display\n",
    "all of the values entered by the user (except for the 0) in ascending order, with one\n",
    "value appearing on each line. Use either the sort method or the sorted function\n",
    "to sort the list."
   ]
  },
  {
   "cell_type": "code",
   "execution_count": 5,
   "id": "92659700",
   "metadata": {},
   "outputs": [
    {
     "name": "stdout",
     "output_type": "stream",
     "text": [
      "enter input to stop enter 07\n",
      "enter input to stop enter 04\n",
      "enter input to stop enter 09\n",
      "enter input to stop enter 0-4\n",
      "enter input to stop enter 09\n",
      "enter input to stop enter 00\n",
      "-4\n",
      "4\n",
      "7\n",
      "9\n",
      "9\n"
     ]
    }
   ],
   "source": [
    "inpu = int(input(\"enter input to stop enter 0\"))\n",
    "lis = []\n",
    "while inpu != 0:\n",
    "    lis.append(inpu)\n",
    "    inpu = int(input(\"enter input to stop enter 0\"))\n",
    "lis.sort()\n",
    "\n",
    "for x in lis:\n",
    "    print(x)\n",
    "    \n",
    "    "
   ]
  },
  {
   "cell_type": "markdown",
   "id": "c06e4562",
   "metadata": {},
   "source": [
    "## 2\n",
    "When analysing data collected as part of a science experiment it may be desirable\n",
    "to remove the most extreme values before performing other calculations. Write a\n",
    "function that takes a list of values and an non-negative integer, n, as its parameters.\n",
    "The function should create a new copy of the list with the n largest elements and the\n",
    "n smallest elements removed. Then it should return the new copy of the list as the\n",
    "function’s only result. The order of the elements in the returned list does not have to\n",
    "match the order of the elements in the original list.\n",
    "Write a main program that demonstrates your function. It should read a list of\n",
    "numbers from the user and remove the two largest and two smallest values from it by\n",
    "calling the function described previously. Display the list with the outliers removed,\n",
    "followed by the original list. Your program should generate an appropriate error\n",
    "message if the user enters less than 4 values.\n"
   ]
  },
  {
   "cell_type": "code",
   "execution_count": 14,
   "id": "3dfbc43f",
   "metadata": {},
   "outputs": [
    {
     "name": "stdout",
     "output_type": "stream",
     "text": [
      "enter input to stop enter 04\n",
      "enter input to stop enter 05\n",
      "enter input to stop enter 06\n",
      "enter input to stop enter 07\n",
      "enter input to stop enter 03\n",
      "enter input to stop enter 021\n",
      "enter input to stop enter 0676\n",
      "enter input to stop enter 00\n",
      "original list [3, 4, 5, 6, 7, 21, 676]\n",
      "new list [5, 6, 7]\n"
     ]
    }
   ],
   "source": [
    "inpu = int(input(\"enter input to stop enter 0\"))\n",
    "lis = []\n",
    "while inpu != 0:\n",
    "    lis.append(inpu)\n",
    "    inpu = int(input(\"enter input to stop enter 0\"))\n",
    "def calculation(lis):\n",
    "    if len(lis) < 4:\n",
    "        print(\"only 4 characters\")\n",
    "        return\n",
    "    lis.sort()\n",
    "    newlis=[]\n",
    "    print(f\"original list {lis}\")\n",
    "    for elem in range (2,len(lis)-2,1):\n",
    "        newlis.append(lis[elem])\n",
    "    return newlis\n",
    "print(f\"new list {calculation(lis)}\")\n",
    "        \n",
    "        \n",
    "    "
   ]
  },
  {
   "cell_type": "markdown",
   "id": "2ac753ac",
   "metadata": {},
   "source": [
    "## 3\n",
    "In this exercise, you will create a program that reads words from the user until the\n",
    "user enters a blank line. After the user enters a blank line your program should display\n",
    "each word entered by the user exactly once. The words should be displayed in\n",
    "the same order that they were first entered. For example, if the user enters:\n",
    "first\n",
    "second\n",
    "first\n",
    "third\n",
    "second\n",
    "then your program should display:\n",
    "first\n",
    "second\n",
    "third"
   ]
  },
  {
   "cell_type": "code",
   "execution_count": 18,
   "id": "cfa998e6",
   "metadata": {},
   "outputs": [
    {
     "name": "stdout",
     "output_type": "stream",
     "text": [
      "enters a blank line to stopfi\n",
      "enters a blank line to stopse\n",
      "enters a blank line to stopfi\n",
      "enters a blank line to stopth\n",
      "enters a blank line to stopfu\n",
      "enters a blank line to stopfu\n",
      "enters a blank line to stop\n",
      "Original list ['fi', 'fi', 'fu', 'fu', 'se', 'th']\n",
      "New list ['fi', 'fu', 'se', 'th']\n"
     ]
    }
   ],
   "source": [
    "inpu = input(\"enters a blank line to stop\")\n",
    "lis = []\n",
    "while inpu != \"\":\n",
    "    lis.append(inpu)\n",
    "    inpu = input(\"enters a blank line to stop\")\n",
    "lis.sort()\n",
    "new_lis=[]\n",
    "new_lis.append(lis[0])\n",
    "print(f\"Original list {lis}\")\n",
    "for ele in range (1,len(lis)):\n",
    "    if new_lis[len(new_lis)-1] != lis[ele]:\n",
    "        new_lis.append(lis[ele])\n",
    "print(f\"New list {new_lis}\")\n",
    "    "
   ]
  },
  {
   "cell_type": "markdown",
   "id": "5f0a0b65",
   "metadata": {},
   "source": [
    "## 4\n",
    "In order to win the top prize in a particular lottery, one must match all 6 numbers\n",
    "on his or her ticket to the 6 numbers between 1 and 49 that are drawn by the lottery\n",
    "organizer. Write a program that generates a random selection of 6 numbers for a\n",
    "lottery ticket. Ensure that the 6 numbers selected do not contain any duplicates.\n",
    "Display the numbers in ascending order."
   ]
  },
  {
   "cell_type": "code",
   "execution_count": 36,
   "id": "fe5ad864",
   "metadata": {},
   "outputs": [
    {
     "name": "stdout",
     "output_type": "stream",
     "text": [
      "[5, 21, 25, 32, 39, 47]\n"
     ]
    }
   ],
   "source": [
    "lis=[]\n",
    "lot_size = 0\n",
    "while lot_size != 6:\n",
    "      val = random.randint(1,49)\n",
    "      if val not in lis:\n",
    "         lis.append(val)\n",
    "         lot_size += 1\n",
    "lis.sort()\n",
    "print(lis)\n",
    "         "
   ]
  },
  {
   "cell_type": "markdown",
   "id": "3ef31b04",
   "metadata": {},
   "source": [
    "## 5: The Sieve of Eratosthenes\n",
    "The Sieve of Eratosthenes is a technique that was developed more than 2,000 years\n",
    "ago to easily find all of the prime numbers between 2 and some limit, say 100. A\n",
    "description of the algorithm follows:\n",
    "Write down all of the numbers from 0 to the limit\n",
    "Cross out 0 and 1 because they are not prime\n",
    "Set p equal to 2\n",
    "While p is less than the limit do\n",
    "Cross out all multiples of p (but not p itself)\n",
    "Set p equal to the next number in the list that is not crossed out\n",
    "Report all of the numbers that have not been crossed out as prime\n",
    "The key to this algorithm is that it is relatively easy to cross out every nth number\n",
    "on a piece of paper. This is also an easy task for a computer—a for loop can simulate\n",
    "this behavior when a third parameter is provided to the range function. When a\n",
    "number is crossed out, we know that it is no longer prime, but it still occupies space\n",
    "on the piece of paper, and must still be considered when computing later prime\n",
    "numbers. As a result, you should not simulate crossing out a number by removing\n",
    "it from the list. Instead, you should simulate crossing out a number by replacing it\n",
    "with 0. Then, once the algorithm completes, all of the non-zero values in the list are\n",
    "prime.\n",
    "5.5 Exercises 95\n",
    "Create a Python program that uses this algorithm to display all of the prime\n",
    "numbers between 2 and a limit entered by the user. If you implement the algorithm\n",
    "correctly you should be able to display all of the prime numbers less than 1,000,000\n",
    "in a few seconds.\n",
    "This algorithm for finding prime numbers is not Eratosthenes’ only claim to\n",
    "fame. His other noteworthy accomplishments include calculating the circumference\n",
    "of the Earth and the tilt of the Earth’s axis. He also served as the Chief\n",
    "Librarian at the Library of Alexandria.\n"
   ]
  },
  {
   "cell_type": "code",
   "execution_count": null,
   "id": "36414ce4",
   "metadata": {},
   "outputs": [],
   "source": [
    "def sieve_algo(val1,val2):\n",
    "    if val1 <= 1:\n",
    "        val1 = 2\n",
    "    li = []\n",
    "    for x in range(val1,val2):\n",
    "        li.append(x)\n",
    "    p = li[0]\n",
    "    i = 0\n",
    "    while p < val2:\n",
    "        li1 = li\n",
    "        for x in li:\n",
    "            if x%p == 0 and x != p:\n",
    "                li.remove(x)       \n",
    "        i = i + 1\n",
    "        if len(li) > i:\n",
    "            p = li[i]\n",
    "        else: p = val2 +2\n",
    "    return li   \n",
    "val1 = int(input(\"enter min limit\"))\n",
    "val2 = int(input(\"enter max limit\"))\n",
    "print(sieve_algo(val1,val2))\n",
    "\n"
   ]
  },
  {
   "cell_type": "markdown",
   "id": "78e2b4e0",
   "metadata": {},
   "source": [
    "## 6: Generate All Sublists of a List\n",
    "Using the definition of a sublist from Exercise 133, write a function that returns a\n",
    "list containing every possible sublist of a list. For example, the sublists of [1, 2,\n",
    "3] are [], [1], [2], [3], [1, 2], [2, 3] and [1, 2, 3]. Note that your\n",
    "function will always return a list containing at least the empty list because the empty\n",
    "list is a sublist of every list. Include a main program that demonstrate your function\n",
    "by displaying all of the sublists of several different lists.\n"
   ]
  },
  {
   "cell_type": "code",
   "execution_count": null,
   "id": "31550f7e",
   "metadata": {},
   "outputs": [],
   "source": [
    "def sublis(li):  \n",
    "    li1 = []\n",
    "    print(li1)\n",
    "    for i in range(0,len(li)):\n",
    "        li1.append(li[i])\n",
    "        print(li1)        \n",
    "        for j in range(i+1,len(li)):\n",
    "            li1.append(li[j])\n",
    "            print(li1)\n",
    "        li1 = []  \n",
    "li = [1,2,3]\n",
    "sublis(li)"
   ]
  },
  {
   "cell_type": "code",
   "execution_count": null,
   "id": "64c9f30b",
   "metadata": {},
   "outputs": [],
   "source": []
  }
 ],
 "metadata": {
  "kernelspec": {
   "display_name": "Python 3 (ipykernel)",
   "language": "python",
   "name": "python3"
  },
  "language_info": {
   "codemirror_mode": {
    "name": "ipython",
    "version": 3
   },
   "file_extension": ".py",
   "mimetype": "text/x-python",
   "name": "python",
   "nbconvert_exporter": "python",
   "pygments_lexer": "ipython3",
   "version": "3.9.12"
  }
 },
 "nbformat": 4,
 "nbformat_minor": 5
}
